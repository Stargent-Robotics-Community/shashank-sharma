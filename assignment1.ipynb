{
 "cells": [
  {
   "cell_type": "code",
   "execution_count": 10,
   "id": "412de42c",
   "metadata": {},
   "outputs": [
    {
     "name": "stdout",
     "output_type": "stream",
     "text": [
      "Mirzapur\n",
      "Money heist\n",
      "Avengers Endgame\n",
      "Iron man\n",
      "Thor\n",
      "Sacred games\n"
     ]
    }
   ],
   "source": [
    "#Create a list of your favourite tv shows and movies. After creating the list of at least 4\n",
    "#items, iterate over the whole list and print it's elements\n",
    "list1 = [\"Mirzapur\" , \"Money heist\" , \"Avengers Endgame\" , \"Iron man\" , \"Thor\" , \"Sacred games\"]\n",
    "for i in list1:\n",
    "    print(i)"
   ]
  },
  {
   "cell_type": "code",
   "execution_count": 9,
   "id": "3a5e538e",
   "metadata": {},
   "outputs": [
    {
     "name": "stdout",
     "output_type": "stream",
     "text": [
      "Enter Your favourite tv show 1X men\n",
      "Enter Your favourite tv show 2Agents of shields\n",
      "['Mirzapur', 'Money heist', 'Avengers Endgame', 'Iron man', 'Thor', 'X men', 'Agents of shields']\n"
     ]
    }
   ],
   "source": [
    "#Now ask the user to enter 2 of his favourite tv shows. Take that as input and then use the\n",
    "#append() function to add those inputs into the list.\n",
    "str1 = input(\"Enter Your favourite tv show 1\")\n",
    "list1.append(str1)\n",
    "str2 = input(\"Enter Your favourite tv show 2\")\n",
    "list1.append(str2)\n",
    "print(list1)"
   ]
  },
  {
   "cell_type": "code",
   "execution_count": 11,
   "id": "9b3b8e4a",
   "metadata": {},
   "outputs": [
    {
     "name": "stdout",
     "output_type": "stream",
     "text": [
      "['Mirzapur', 'Avengers Endgame', 'Thor']\n"
     ]
    }
   ],
   "source": [
    "#Use slicing to print every 2nd element from the list starting from the second element\n",
    "print(list1[::2])"
   ]
  },
  {
   "cell_type": "code",
   "execution_count": 12,
   "id": "991a5f8b",
   "metadata": {},
   "outputs": [
    {
     "name": "stdout",
     "output_type": "stream",
     "text": [
      "15\n"
     ]
    }
   ],
   "source": [
    "#Create a list of 5 integers and use a while loop to calculate their sum.\n",
    "list2 = [1 , 2 , 3 , 4 , 5]\n",
    "i = 0 \n",
    "sum = 0\n",
    "while(i < len(list2)):\n",
    "    sum+=list2[i]\n",
    "    i+=1 \n",
    "\n",
    "print(sum)"
   ]
  },
  {
   "cell_type": "code",
   "execution_count": 13,
   "id": "ecb9fba7",
   "metadata": {},
   "outputs": [
    {
     "name": "stdout",
     "output_type": "stream",
     "text": [
      "Enter the no of rows5\n",
      "1 \n",
      "1 2 \n",
      "1 2 3 \n",
      "1 2 3 4 \n",
      "1 2 3 4 5 \n"
     ]
    }
   ],
   "source": [
    "#Print the following pattern using a loop:\n",
    "row = int(input(\"Enter the no of rows\"))\n",
    "for i in range(1 , row+1):\n",
    "    for j in range(1 , i+1):\n",
    "        print(j , end=\" \")\n",
    "    print(end=\"\\n\")"
   ]
  },
  {
   "cell_type": "code",
   "execution_count": null,
   "id": "b8200c14",
   "metadata": {},
   "outputs": [],
   "source": []
  }
 ],
 "metadata": {
  "kernelspec": {
   "display_name": "Python 3",
   "language": "python",
   "name": "python3"
  },
  "language_info": {
   "codemirror_mode": {
    "name": "ipython",
    "version": 3
   },
   "file_extension": ".py",
   "mimetype": "text/x-python",
   "name": "python",
   "nbconvert_exporter": "python",
   "pygments_lexer": "ipython3",
   "version": "3.8.8"
  }
 },
 "nbformat": 4,
 "nbformat_minor": 5
}
